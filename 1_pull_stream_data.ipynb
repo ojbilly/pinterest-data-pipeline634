{
 "cells": [
  {
   "cell_type": "code",
   "execution_count": 0,
   "metadata": {
    "application/vnd.databricks.v1+cell": {
     "cellMetadata": {},
     "inputWidgets": {},
     "nuid": "8b4e3ec1-dc09-4593-a73d-50ca186ce744",
     "showTitle": false,
     "tableResultSettingsMap": {},
     "title": ""
    }
   },
   "outputs": [],
   "source": [
    "# Configure access to S3\n",
    "spark._jsc.hadoopConfiguration().set(\"fs.s3a.access.key\", \"<your-access-key>\")\n",
    "spark._jsc.hadoopConfiguration().set(\"fs.s3a.secret.key\", \"<your-secret-key>\")\n",
    "spark._jsc.hadoopConfiguration().set(\"fs.s3a.endpoint\", \"s3.eu-west-1.amazonaws.com\")\n",
    "\n",
    "# S3 path (replace with your correct stream subfolders if necessary)\n",
    "s3_pin_path = \"s3a://kinesis-s3-databrick/topics/my-pin-stream.pin/partition=0/*\"\n",
    "s3_geo_path = \"s3a://kinesis-s3-databrick/topics/my-pin-stream.geo/partition=0/*\"\n",
    "s3_user_path = \"s3a://kinesis-s3-databrick/topics/my-pin-stream.user/partition=0/*\"\n",
    "\n",
    "# Load raw JSON data\n",
    "df_pin_raw = spark.read.json(s3_pin_path)\n",
    "df_geo_raw = spark.read.json(s3_geo_path)\n",
    "df_user_raw = spark.read.json(s3_user_path)\n",
    "\n",
    "df_pin_raw.createOrReplaceTempView(\"pin_raw\")\n",
    "df_geo_raw.createOrReplaceTempView(\"geo_raw\")\n",
    "df_user_raw.createOrReplaceTempView(\"user_raw\")\n"
   ]
  }
 ],
 "metadata": {
  "application/vnd.databricks.v1+notebook": {
   "computePreferences": null,
   "dashboards": [],
   "environmentMetadata": {
    "base_environment": "",
    "environment_version": "1"
   },
   "inputWidgetPreferences": null,
   "language": "python",
   "notebookMetadata": {
    "pythonIndentUnit": 4
   },
   "notebookName": "1_pull_stream_data",
   "widgets": {}
  }
 },
 "nbformat": 4,
 "nbformat_minor": 0
}