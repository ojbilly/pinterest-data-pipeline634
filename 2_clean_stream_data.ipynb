{
 "cells": [
  {
   "cell_type": "code",
   "execution_count": 0,
   "metadata": {
    "application/vnd.databricks.v1+cell": {
     "cellMetadata": {},
     "inputWidgets": {},
     "nuid": "229bae1c-42b9-4c97-83ec-3eb7342ca7fa",
     "showTitle": false,
     "tableResultSettingsMap": {},
     "title": ""
    }
   },
   "outputs": [],
   "source": [
    "from pyspark.sql.functions import regexp_replace, col, trim, lower\n",
    "\n",
    "# Clean PIN\n",
    "df_pin_cleaned = spark.sql(\"SELECT * FROM pin_raw\") \\\n",
    "    .withColumn(\"follower_count\", regexp_replace(\"follower_count\", \"k\", \"000\")) \\\n",
    "    .withColumn(\"follower_count\", regexp_replace(\"follower_count\", \"M\", \"000000\")) \\\n",
    "    .withColumn(\"follower_count\", col(\"follower_count\").cast(\"int\")) \\\n",
    "    .withColumn(\"category\", trim(lower(col(\"category\")))) \\\n",
    "    .dropDuplicates([\"unique_id\"]) \\\n",
    "    .na.drop()\n",
    "\n",
    "# Clean GEO\n",
    "df_geo_cleaned = spark.sql(\"SELECT * FROM geo_raw\") \\\n",
    "    .dropDuplicates([\"ind\"]) \\\n",
    "    .na.drop()\n",
    "\n",
    "# Clean USER\n",
    "df_user_cleaned = spark.sql(\"SELECT * FROM user_raw\") \\\n",
    "    .dropDuplicates([\"ind\"]) \\\n",
    "    .na.drop()\n",
    "\n",
    "df_pin_cleaned.createOrReplaceTempView(\"pin_cleaned\")\n",
    "df_geo_cleaned.createOrReplaceTempView(\"geo_cleaned\")\n",
    "df_user_cleaned.createOrReplaceTempView(\"user_cleaned\")\n"
   ]
  }
 ],
 "metadata": {
  "application/vnd.databricks.v1+notebook": {
   "computePreferences": null,
   "dashboards": [],
   "environmentMetadata": {
    "base_environment": "",
    "environment_version": "1"
   },
   "inputWidgetPreferences": null,
   "language": "python",
   "notebookMetadata": {
    "pythonIndentUnit": 4
   },
   "notebookName": "2_clean_stream_data",
   "widgets": {}
  }
 },
 "nbformat": 4,
 "nbformat_minor": 0
}