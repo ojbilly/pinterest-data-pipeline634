{
 "cells": [
  {
   "cell_type": "code",
   "execution_count": 0,
   "metadata": {
    "application/vnd.databricks.v1+cell": {
     "cellMetadata": {},
     "inputWidgets": {},
     "nuid": "c88e8702-a1a2-4d5c-b6d1-24b2b7536636",
     "showTitle": false,
     "tableResultSettingsMap": {},
     "title": ""
    }
   },
   "outputs": [],
   "source": [
    "# Save to Delta format tables with your user ID\n",
    "df_pin_final = spark.sql(\"SELECT * FROM pin_cleaned\")\n",
    "df_geo_final = spark.sql(\"SELECT * FROM geo_cleaned\")\n",
    "df_user_final = spark.sql(\"SELECT * FROM user_cleaned\")\n",
    "\n",
    "df_pin_final.write.format(\"delta\").mode(\"overwrite\").saveAsTable(\"_pin_table\")\n",
    "df_geo_final.write.format(\"delta\").mode(\"overwrite\").saveAsTable(\"yourUserId_geo_table\")\n",
    "df_user_final.write.format(\"delta\").mode(\"overwrite\").saveAsTable(\"yourUserId_user_table\")\n"
   ]
  }
 ],
 "metadata": {
  "application/vnd.databricks.v1+notebook": {
   "computePreferences": null,
   "dashboards": [],
   "environmentMetadata": {
    "base_environment": "",
    "environment_version": "1"
   },
   "inputWidgetPreferences": null,
   "language": "python",
   "notebookMetadata": {
    "pythonIndentUnit": 4
   },
   "notebookName": "3_save_delta_tables",
   "widgets": {}
  }
 },
 "nbformat": 4,
 "nbformat_minor": 0
}