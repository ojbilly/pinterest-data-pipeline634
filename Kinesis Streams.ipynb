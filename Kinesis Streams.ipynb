{
 "cells": [
  {
   "cell_type": "code",
   "execution_count": 0,
   "metadata": {
    "application/vnd.databricks.v1+cell": {
     "cellMetadata": {
      "byteLimit": 2048000,
      "rowLimit": 10000
     },
     "inputWidgets": {},
     "nuid": "db395623-75d4-45f2-9790-4dfe90c8432f",
     "showTitle": false,
     "tableResultSettingsMap": {},
     "title": ""
    }
   },
   "outputs": [
    {
     "output_type": "stream",
     "name": "stdout",
     "output_type": "stream",
     "text": [
      "📥 Reading JSON data from S3...\n"
     ]
    },
    {
     "output_type": "display_data",
     "data": {
      "text/html": [
       "<style scoped>\n",
       "  .table-result-container {\n",
       "    max-height: 300px;\n",
       "    overflow: auto;\n",
       "  }\n",
       "  table, th, td {\n",
       "    border: 1px solid black;\n",
       "    border-collapse: collapse;\n",
       "  }\n",
       "  th, td {\n",
       "    padding: 5px;\n",
       "  }\n",
       "  th {\n",
       "    text-align: left;\n",
       "  }\n",
       "</style><div class='table-result-container'><table class='table-result'><thead style='background-color: white'><tr><th>index</th><th>unique_id</th><th>title</th><th>description</th><th>poster_name</th><th>follower_count</th><th>tag_list</th><th>is_image_or_video</th><th>image_src</th><th>downloaded</th><th>save_location</th><th>category</th></tr></thead><tbody><tr><td>2386</td><td>38c3e021-527e-4da6-8d43-c0aa07500d12</td><td>Christmas Five Senses Book</td><td>The sights, sounds and smells of Christmas stay with many of us for a lifetime. Perhaps cinnamon in your nasal cavity automatically takes you back to Grandma’s kitchen. Or at th… </td><td>Life Over C's</td><td>79k</td><td>Christmas Books,Christmas Themes,Kids Christmas,Xmas,Christmas Projects,Preschool Christmas Crafts,Christmas Activities,Kindergarten Christmas,Winter Activities</td><td>image</td><td>https://i.pinimg.com/originals/3f/f7/54/3ff754d879c31507d1dc78104af06a63.jpg</td><td>1</td><td>Local save in /data/christmas</td><td>christmas</td></tr><tr><td>2386</td><td>38c3e021-527e-4da6-8d43-c0aa07500d12</td><td>Christmas Five Senses Book</td><td>The sights, sounds and smells of Christmas stay with many of us for a lifetime. Perhaps cinnamon in your nasal cavity automatically takes you back to Grandma’s kitchen. Or at th… </td><td>Life Over C's</td><td>79k</td><td>Christmas Books,Christmas Themes,Kids Christmas,Xmas,Christmas Projects,Preschool Christmas Crafts,Christmas Activities,Kindergarten Christmas,Winter Activities</td><td>image</td><td>https://i.pinimg.com/originals/3f/f7/54/3ff754d879c31507d1dc78104af06a63.jpg</td><td>1</td><td>Local save in /data/christmas</td><td>christmas</td></tr><tr><td>null</td><td>null</td><td>null</td><td>null</td><td>null</td><td>null</td><td>null</td><td>null</td><td>null</td><td>null</td><td>null</td><td>null</td></tr><tr><td>null</td><td>null</td><td>null</td><td>null</td><td>null</td><td>null</td><td>null</td><td>null</td><td>null</td><td>null</td><td>null</td><td>null</td></tr></tbody></table></div>"
      ]
     },
     "metadata": {
      "application/vnd.databricks.v1+output": {
       "addedWidgets": {},
       "aggData": [],
       "aggError": "",
       "aggOverflow": false,
       "aggSchema": [],
       "aggSeriesLimitReached": false,
       "aggType": "",
       "arguments": {},
       "columnCustomDisplayInfos": {},
       "data": [
        [
         2386,
         "38c3e021-527e-4da6-8d43-c0aa07500d12",
         "Christmas Five Senses Book",
         "The sights, sounds and smells of Christmas stay with many of us for a lifetime. Perhaps cinnamon in your nasal cavity automatically takes you back to Grandma’s kitchen. Or at th… ",
         "Life Over C's",
         "79k",
         "Christmas Books,Christmas Themes,Kids Christmas,Xmas,Christmas Projects,Preschool Christmas Crafts,Christmas Activities,Kindergarten Christmas,Winter Activities",
         "image",
         "https://i.pinimg.com/originals/3f/f7/54/3ff754d879c31507d1dc78104af06a63.jpg",
         1,
         "Local save in /data/christmas",
         "christmas"
        ],
        [
         2386,
         "38c3e021-527e-4da6-8d43-c0aa07500d12",
         "Christmas Five Senses Book",
         "The sights, sounds and smells of Christmas stay with many of us for a lifetime. Perhaps cinnamon in your nasal cavity automatically takes you back to Grandma’s kitchen. Or at th… ",
         "Life Over C's",
         "79k",
         "Christmas Books,Christmas Themes,Kids Christmas,Xmas,Christmas Projects,Preschool Christmas Crafts,Christmas Activities,Kindergarten Christmas,Winter Activities",
         "image",
         "https://i.pinimg.com/originals/3f/f7/54/3ff754d879c31507d1dc78104af06a63.jpg",
         1,
         "Local save in /data/christmas",
         "christmas"
        ],
        [
         null,
         null,
         null,
         null,
         null,
         null,
         null,
         null,
         null,
         null,
         null,
         null
        ],
        [
         null,
         null,
         null,
         null,
         null,
         null,
         null,
         null,
         null,
         null,
         null,
         null
        ]
       ],
       "datasetInfos": [],
       "dbfsResultPath": null,
       "isJsonSchema": true,
       "metadata": {},
       "overflow": false,
       "plotOptions": {
        "customPlotOptions": {},
        "displayType": "table",
        "pivotAggregation": null,
        "pivotColumns": null,
        "xColumns": null,
        "yColumns": null
       },
       "removedWidgets": [],
       "schema": [
        {
         "metadata": "{}",
         "name": "index",
         "type": "\"integer\""
        },
        {
         "metadata": "{}",
         "name": "unique_id",
         "type": "\"string\""
        },
        {
         "metadata": "{}",
         "name": "title",
         "type": "\"string\""
        },
        {
         "metadata": "{}",
         "name": "description",
         "type": "\"string\""
        },
        {
         "metadata": "{}",
         "name": "poster_name",
         "type": "\"string\""
        },
        {
         "metadata": "{}",
         "name": "follower_count",
         "type": "\"string\""
        },
        {
         "metadata": "{}",
         "name": "tag_list",
         "type": "\"string\""
        },
        {
         "metadata": "{}",
         "name": "is_image_or_video",
         "type": "\"string\""
        },
        {
         "metadata": "{}",
         "name": "image_src",
         "type": "\"string\""
        },
        {
         "metadata": "{}",
         "name": "downloaded",
         "type": "\"integer\""
        },
        {
         "metadata": "{}",
         "name": "save_location",
         "type": "\"string\""
        },
        {
         "metadata": "{}",
         "name": "category",
         "type": "\"string\""
        }
       ],
       "type": "table"
      }
     },
     "output_type": "display_data"
    }
   ],
   "source": [
    "spark._jsc.hadoopConfiguration().set(\"fs.s3a.access.key\", \"AKIAQYEI44NWS57Y5***\")\n",
    "spark._jsc.hadoopConfiguration().set(\"fs.s3a.secret.key\", \"C4kc0VeRHGMg8BUEGyaZS4MoADm+oD5lMDaHo***\")\n",
    "spark._jsc.hadoopConfiguration().set(\"fs.s3a.endpoint\", \"s3.eu-west-1.amazonaws.com\")\n",
    "\n",
    "s3_path = \"s3a://kinesis-s3-databrick/2025/04/10/*\"\n",
    "\n",
    "from pyspark.sql.types import StructType\n",
    "\n",
    "schema = StructType() \\\n",
    "    .add(\"index\", \"integer\") \\\n",
    "    .add(\"unique_id\", \"string\") \\\n",
    "    .add(\"title\", \"string\") \\\n",
    "    .add(\"description\", \"string\") \\\n",
    "    .add(\"poster_name\", \"string\") \\\n",
    "    .add(\"follower_count\", \"string\") \\\n",
    "    .add(\"tag_list\", \"string\") \\\n",
    "    .add(\"is_image_or_video\", \"string\") \\\n",
    "    .add(\"image_src\", \"string\") \\\n",
    "    .add(\"downloaded\", \"integer\") \\\n",
    "    .add(\"save_location\", \"string\") \\\n",
    "    .add(\"category\", \"string\")\n",
    "\n",
    "print(\"📥 Reading JSON data from S3...\")\n",
    "df_raw = spark.read.json(s3_path, schema=schema)\n",
    "display(df_raw)"
   ]
  },
  {
   "cell_type": "code",
   "execution_count": 0,
   "metadata": {
    "application/vnd.databricks.v1+cell": {
     "cellMetadata": {
      "byteLimit": 2048000,
      "rowLimit": 10000
     },
     "inputWidgets": {},
     "nuid": "7ffc7902-efbc-4a27-84a1-f83b872e856f",
     "showTitle": false,
     "tableResultSettingsMap": {},
     "title": ""
    }
   },
   "outputs": [
    {
     "output_type": "stream",
     "name": "stdout",
     "output_type": "stream",
     "text": [
      "🧹 Cleaning Data...\n"
     ]
    },
    {
     "output_type": "display_data",
     "data": {
      "text/html": [
       "<style scoped>\n",
       "  .table-result-container {\n",
       "    max-height: 300px;\n",
       "    overflow: auto;\n",
       "  }\n",
       "  table, th, td {\n",
       "    border: 1px solid black;\n",
       "    border-collapse: collapse;\n",
       "  }\n",
       "  th, td {\n",
       "    padding: 5px;\n",
       "  }\n",
       "  th {\n",
       "    text-align: left;\n",
       "  }\n",
       "</style><div class='table-result-container'><table class='table-result'><thead style='background-color: white'><tr><th>index</th><th>unique_id</th><th>title</th><th>description</th><th>poster_name</th><th>follower_count</th><th>tag_list</th><th>is_image_or_video</th><th>image_src</th><th>downloaded</th><th>save_location</th><th>category</th></tr></thead><tbody><tr><td>2386</td><td>38c3e021-527e-4da6-8d43-c0aa07500d12</td><td>Christmas Five Senses Book</td><td>The sights, sounds and smells of Christmas stay with many of us for a lifetime. Perhaps cinnamon in your nasal cavity automatically takes you back to Grandma’s kitchen. Or at th… </td><td>Life Over C's</td><td>79000</td><td>Christmas Books,Christmas Themes,Kids Christmas,Xmas,Christmas Projects,Preschool Christmas Crafts,Christmas Activities,Kindergarten Christmas,Winter Activities</td><td>image</td><td>https://i.pinimg.com/originals/3f/f7/54/3ff754d879c31507d1dc78104af06a63.jpg</td><td>1</td><td>Local save in /data/christmas</td><td>christmas</td></tr></tbody></table></div>"
      ]
     },
     "metadata": {
      "application/vnd.databricks.v1+output": {
       "addedWidgets": {},
       "aggData": [],
       "aggError": "",
       "aggOverflow": false,
       "aggSchema": [],
       "aggSeriesLimitReached": false,
       "aggType": "",
       "arguments": {},
       "columnCustomDisplayInfos": {},
       "data": [
        [
         2386,
         "38c3e021-527e-4da6-8d43-c0aa07500d12",
         "Christmas Five Senses Book",
         "The sights, sounds and smells of Christmas stay with many of us for a lifetime. Perhaps cinnamon in your nasal cavity automatically takes you back to Grandma’s kitchen. Or at th… ",
         "Life Over C's",
         79000,
         "Christmas Books,Christmas Themes,Kids Christmas,Xmas,Christmas Projects,Preschool Christmas Crafts,Christmas Activities,Kindergarten Christmas,Winter Activities",
         "image",
         "https://i.pinimg.com/originals/3f/f7/54/3ff754d879c31507d1dc78104af06a63.jpg",
         1,
         "Local save in /data/christmas",
         "christmas"
        ]
       ],
       "datasetInfos": [],
       "dbfsResultPath": null,
       "isJsonSchema": true,
       "metadata": {},
       "overflow": false,
       "plotOptions": {
        "customPlotOptions": {},
        "displayType": "table",
        "pivotAggregation": null,
        "pivotColumns": null,
        "xColumns": null,
        "yColumns": null
       },
       "removedWidgets": [],
       "schema": [
        {
         "metadata": "{}",
         "name": "index",
         "type": "\"integer\""
        },
        {
         "metadata": "{}",
         "name": "unique_id",
         "type": "\"string\""
        },
        {
         "metadata": "{}",
         "name": "title",
         "type": "\"string\""
        },
        {
         "metadata": "{}",
         "name": "description",
         "type": "\"string\""
        },
        {
         "metadata": "{}",
         "name": "poster_name",
         "type": "\"string\""
        },
        {
         "metadata": "{}",
         "name": "follower_count",
         "type": "\"integer\""
        },
        {
         "metadata": "{}",
         "name": "tag_list",
         "type": "\"string\""
        },
        {
         "metadata": "{}",
         "name": "is_image_or_video",
         "type": "\"string\""
        },
        {
         "metadata": "{}",
         "name": "image_src",
         "type": "\"string\""
        },
        {
         "metadata": "{}",
         "name": "downloaded",
         "type": "\"integer\""
        },
        {
         "metadata": "{}",
         "name": "save_location",
         "type": "\"string\""
        },
        {
         "metadata": "{}",
         "name": "category",
         "type": "\"string\""
        }
       ],
       "type": "table"
      }
     },
     "output_type": "display_data"
    }
   ],
   "source": [
    "from pyspark.sql.functions import regexp_replace, col, trim, lower\n",
    "\n",
    "print(\"Cleaning Data...\")\n",
    "df_cleaned = df_raw \\\n",
    "    .withColumn(\"follower_count\", regexp_replace(\"follower_count\", \"k\", \"000\")) \\\n",
    "    .withColumn(\"follower_count\", regexp_replace(\"follower_count\", \"M\", \"000000\")) \\\n",
    "    .withColumn(\"follower_count\", col(\"follower_count\").cast(\"int\")) \\\n",
    "    .withColumn(\"category\", trim(lower(col(\"category\")))) \\\n",
    "    .dropDuplicates([\"unique_id\"]) \\\n",
    "    .na.drop()\n",
    "\n",
    "display(df_cleaned)\n"
   ]
  },
  {
   "cell_type": "code",
   "execution_count": 0,
   "metadata": {
    "application/vnd.databricks.v1+cell": {
     "cellMetadata": {},
     "inputWidgets": {},
     "nuid": "e7d6cc59-3195-4f8e-803a-5aa3192edf57",
     "showTitle": false,
     "tableResultSettingsMap": {},
     "title": ""
    }
   },
   "outputs": [],
   "source": [
    "from pyspark.sql.functions import regexp_replace, col, trim, lower\n",
    "\n",
    "df_pin_cleaned = spark.sql(\"SELECT * FROM pin_raw\") \\\n",
    "    .withColumn(\"follower_count\", regexp_replace(\"follower_count\", \"k\", \"000\")) \\\n",
    "    .withColumn(\"follower_count\", regexp_replace(\"follower_count\", \"M\", \"000000\")) \\\n",
    "    .withColumn(\"follower_count\", col(\"follower_count\").cast(\"int\")) \\\n",
    "    .withColumn(\"category\", trim(lower(col(\"category\")))) \\\n",
    "    .dropDuplicates([\"unique_id\"]) \\\n",
    "    .na.drop()\n",
    "display(df_cleaned)"
   ]
  }
 ],
 "metadata": {
  "application/vnd.databricks.v1+notebook": {
   "computePreferences": null,
   "dashboards": [],
   "environmentMetadata": {
    "base_environment": "",
    "environment_version": "1"
   },
   "inputWidgetPreferences": null,
   "language": "python",
   "notebookMetadata": {
    "pythonIndentUnit": 4
   },
   "notebookName": "Kinesis Streams",
   "widgets": {}
  }
 },
 "nbformat": 4,
 "nbformat_minor": 0
}