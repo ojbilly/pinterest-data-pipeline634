{
 "cells": [
  {
   "cell_type": "code",
   "execution_count": 0,
   "metadata": {
    "application/vnd.databricks.v1+cell": {
     "cellMetadata": {
      "byteLimit": 2048000,
      "rowLimit": 10000
     },
     "inputWidgets": {},
     "nuid": "70695a2d-4891-428c-a80a-5866045a0da8",
     "showTitle": false,
     "tableResultSettingsMap": {},
     "title": ""
    }
   },
   "outputs": [
    {
     "name": "stdout",
     "output_type": "stream",
     "text": [
      "+--------------------+----+--------+---------+-------------------+\n",
      "|             country| ind|latitude|longitude|          timestamp|\n",
      "+--------------------+----+--------+---------+-------------------+\n",
      "|British Indian Oc...|3337|-65.2363|  21.9622|2020-06-29T05:02:22|\n",
      "|Antarctica (the t...|2418|-88.4642| -171.061|2022-05-27T11:30:59|\n",
      "|Antarctica (the t...|1434|-39.6186| -128.291|2020-03-06T21:00:23|\n",
      "|Antarctica (the t...|5162|-71.6607| -149.206|2019-09-27T19:06:43|\n",
      "|Antarctica (the t...|1335|-77.9931| -175.682|2022-03-19T17:29:42|\n",
      "+--------------------+----+--------+---------+-------------------+\n",
      "only showing top 5 rows\n",
      "\n",
      "+---+-------------------+-----------+-----+---------+\n",
      "|age|        date_joined| first_name|  ind|last_name|\n",
      "+---+-------------------+-----------+-----+---------+\n",
      "| 27|2016-03-08T13:38:37|Christopher| 2015| Bradshaw|\n",
      "| 59|2017-05-12T21:22:17|  Alexander|10673|Cervantes|\n",
      "| 39|2016-06-29T20:43:59|  Christina| 6398|Davenport|\n",
      "| 20|2015-10-23T04:13:23| Alexandria| 3599| Alvarado|\n",
      "| 32|2015-12-18T05:07:36|  Alexander| 5623|Blanchard|\n",
      "+---+-------------------+-----------+-----+---------+\n",
      "only showing top 5 rows\n",
      "\n",
      "+--------------+--------------------+----------+--------------+--------------------+-----+-----------------+--------------------+--------------------+--------------------+---------------------+--------------------+\n",
      "|      category|         description|downloaded|follower_count|           image_src|index|is_image_or_video|         poster_name|       save_location|            tag_list|                title|           unique_id|\n",
      "+--------------+--------------------+----------+--------------+--------------------+-----+-----------------+--------------------+--------------------+--------------------+---------------------+--------------------+\n",
      "|       tattoos|Image uploaded by...|         1|           15M|https://i.pinimg....| 8586|            image|         We Heart It|Local save in /da...|Mens Body Tattoos...| Pretty ♥ discover...|c338b1c8-7c6a-4a1...|\n",
      "|    home-decor|И хоть у шведов л...|         1|          136k|https://i.pinimg....| 6447|            image|PUFIK Interiors &...|Local save in /da...|Cheap Home Decor,...|〚 Warm natural to...|d3039535-5767-426...|\n",
      "|     christmas|Features: Materia...|         1|            5k|https://i.pinimg....| 1706|            image|            Wear24-7|Local save in /da...|Merry Christmas T...| Standing Figurine...|b5c8a1b5-9e90-452...|\n",
      "|     christmas|Christmas decorat...|         1|           46k|https://i.pinimg....| 2482|            video|Life on Summerhil...|Local save in /da...|Diy Christmas Dec...| FORNT PORCH CHRIS...|08604f20-fa17-4b9...|\n",
      "|event-planning|This fabulous DIY...|         1|          985k|https://i.pinimg....| 4585|            image|DIY Joy - Crafts,...|Local save in /da...|Cheap Favors,Wedd...| She Attaches Crys...|aa873546-701b-40d...|\n",
      "+--------------+--------------------+----------+--------------+--------------------+-----+-----------------+--------------------+--------------------+--------------------+---------------------+--------------------+\n",
      "only showing top 5 rows\n",
      "\n"
     ]
    }
   ],
   "source": [
    "spark._jsc.hadoopConfiguration().set(\"fs.s3a.access.key\", \"AKIAQYEI44NW7PLFA***\")\n",
    "spark._jsc.hadoopConfiguration().set(\"fs.s3a.secret.key\", \"D5kqO470qiHYsZCnv6kiSaCyDuVCwLVabpQVw***\")\n",
    "spark._jsc.hadoopConfiguration().set(\"fs.s3a.endpoint\", \"s3.eu-west-1.amazonaws.com\")\n",
    "\n",
    "df_geo = spark.read.json(\"s3a://kafka-bucket-osaze/topics/testbuck1.geo/partition=0/\")\n",
    "df_geo.show(5)\n",
    "\n",
    "df_user = spark.read.json(\"s3a://kafka-bucket-osaze/topics/testbuck1.user/partition=0/\")\n",
    "df_user.show(5)\n",
    "\n",
    "df_pin = spark.read.json(\"s3a://kafka-bucket-osaze/topics/testbuck1.pin/partition=0/\")\n",
    "df_pin.show(5)\n"
   ]
  }
 ],
 "metadata": {
  "application/vnd.databricks.v1+notebook": {
   "computePreferences": null,
   "dashboards": [],
   "environmentMetadata": {
    "base_environment": "",
    "environment_version": "1"
   },
   "inputWidgetPreferences": null,
   "language": "python",
   "notebookMetadata": {
    "pythonIndentUnit": 4
   },
   "notebookName": "pinterest_note",
   "widgets": {}
  },
  "language_info": {
   "name": "python"
  }
 },
 "nbformat": 4,
 "nbformat_minor": 0
}
